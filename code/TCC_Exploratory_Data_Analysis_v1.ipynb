{
  "cells": [
    {
      "cell_type": "markdown",
      "metadata": {
        "id": "view-in-github",
        "colab_type": "text"
      },
      "source": [
        "<a href=\"https://colab.research.google.com/github/h1chang/ufrgs-tcc-ncm-classifier/blob/main/code/TCC_Exploratory_Data_Analysis_v1.ipynb\" target=\"_parent\"><img src=\"https://colab.research.google.com/assets/colab-badge.svg\" alt=\"Open In Colab\"/></a>"
      ]
    },
    {
      "cell_type": "markdown",
      "source": [
        "# Explorando os dados\n",
        "\n",
        "\n",
        "[Portal Transparência - NF-e](https://portaldatransparencia.gov.br/download-de-dados/notas-fiscais).\n",
        "\n",
        "Dúvidas / TODO:\n",
        "- carga dos dados\n",
        "  - métrica de similaridade entre bases (jan, fev, etc,...)\n",
        "\n",
        "- balanceamento\n",
        "  - remover repetições? ou repetições ajudam o treino?\n",
        "  - remover classes com ocorrências < x\n",
        "  - limitar classes em tamanho y\n",
        "  \n",
        "- estatística / visualização\n",
        "  - dados faltantes (ncm sem ocorrência na amostra)\n",
        "  - treemap\n",
        "\n",
        "\n",
        "\n"
      ],
      "metadata": {
        "id": "3QoKwf_V-NCW"
      }
    },
    {
      "cell_type": "markdown",
      "source": [
        "# Instalação de bibliotecas"
      ],
      "metadata": {
        "id": "sr4w10dU_I4q"
      }
    },
    {
      "cell_type": "code",
      "source": [
        "!pip install -U -q PyDrive\n",
        "!pip install numpy\n",
        "!pip install pandas\n",
        "# !pip install vega_datasets\n",
        "# !pip install altair\n",
        "# !pip install geopandas\n",
        "\n",
        "from pydrive.auth import GoogleAuth\n",
        "from pydrive.drive import GoogleDrive\n",
        "from google.colab import auth\n",
        "from oauth2client.client import GoogleCredentials\n",
        "import pandas as pd\n",
        "# import geopandas as gpd\n",
        "# import chardet\n",
        "import matplotlib.pyplot as plt\n",
        "import os\n",
        "import nltk\n",
        "import seaborn as sns\n",
        "\n"
      ],
      "metadata": {
        "id": "tN1w1707wi7F"
      },
      "execution_count": null,
      "outputs": []
    },
    {
      "cell_type": "code",
      "source": [
        "!pip install transformers datasets evaluate"
      ],
      "metadata": {
        "id": "6gTfKs317UHg"
      },
      "execution_count": null,
      "outputs": []
    },
    {
      "cell_type": "markdown",
      "source": [
        "# Carregando os dados"
      ],
      "metadata": {
        "id": "eqoL4kk-3Uuc"
      }
    },
    {
      "cell_type": "code",
      "source": [
        "#autenticação\n",
        "# auth.authenticate_user()\n",
        "# gauth = GoogleAuth()\n",
        "# gauth.credentials = GoogleCredentials.get_application_default()\n",
        "# drive = GoogleDrive(gauth)"
      ],
      "metadata": {
        "id": "Dtt2XFzGwlc3"
      },
      "execution_count": null,
      "outputs": []
    },
    {
      "cell_type": "code",
      "source": [
        "from google.colab import drive\n",
        "drive.mount('/content/drive')"
      ],
      "metadata": {
        "id": "gxQAlLvMrsrL"
      },
      "execution_count": null,
      "outputs": []
    },
    {
      "cell_type": "code",
      "source": [
        "# carregando\n",
        "directory_path = '/content/drive/MyDrive/Colab Notebooks/nf-e'\n",
        "\n",
        "# todos arquivos da pasta\n",
        "directory_files = os.listdir(directory_path)\n",
        "\n",
        "# arquivo específico\n",
        "# directory_files = ['202201_NFe_NotaFiscalItem.csv', '202202_NFe_NotaFiscalItem.csv', '202203_NFe_NotaFiscalItem.csv']\n",
        "directory_files = ['202201_NFe_NotaFiscalItem.csv']\n",
        "\n",
        "df = pd.DataFrame()\n",
        "for file in directory_files:\n",
        "    print('Reading file: ', file)\n",
        "    df_file = pd.read_csv(os.path.join(directory_path, file), encoding = 'ISO-8859-1',low_memory=False)\n",
        "    df = pd.concat([df, df_file])\n",
        "\n",
        "# file = '202210_NFe_NotaFiscalItem_novo.csv'\n",
        "# df_file = pd.read_csv(os.path.join(directory_path, file), encoding = 'ISO-8859-1',low_memory=False)\n",
        "# df = pd.concat([df, df_file])\n",
        "\n",
        "print(len(df))\n"
      ],
      "metadata": {
        "id": "fCyMq7NV-H-4"
      },
      "execution_count": null,
      "outputs": []
    },
    {
      "cell_type": "markdown",
      "source": [
        "# Explorando os dados"
      ],
      "metadata": {
        "id": "tIrH1mkcDRTo"
      }
    },
    {
      "cell_type": "markdown",
      "source": [
        "TODO:\n",
        "1) repetição (uniques, valores únicos)\n",
        "2) tamanho das descrições (word len)"
      ],
      "metadata": {
        "id": "bBUq5hYwSs2K"
      }
    },
    {
      "cell_type": "markdown",
      "source": [
        "## Domínio das colunas"
      ],
      "metadata": {
        "id": "tYrs2NbeDUnY"
      }
    },
    {
      "cell_type": "code",
      "source": [
        "# visualizando nome das colunas\n",
        "df.columns"
      ],
      "metadata": {
        "id": "fWQ3YrYe6iXZ"
      },
      "execution_count": null,
      "outputs": []
    },
    {
      "cell_type": "code",
      "source": [
        "# Print the data types of all columns\n",
        "print(df.dtypes)"
      ],
      "metadata": {
        "id": "hjWfqdmx0cbw"
      },
      "execution_count": null,
      "outputs": []
    },
    {
      "cell_type": "markdown",
      "source": [
        "Funções util para plotar informações"
      ],
      "metadata": {
        "id": "ZOYLdxqCEaZ0"
      }
    },
    {
      "cell_type": "code",
      "source": [
        "def plot_hist(data, colum_name):\n",
        "  # Create histogram\n",
        "  plt.hist(data[colum_name], bins=100, edgecolor='black')\n",
        "\n",
        "  # Set labels and title\n",
        "  plt.xlabel('Value')\n",
        "  plt.ylabel('Frequency')\n",
        "  plt.title('Histogram')\n",
        "\n",
        "  # Display the histogram\n",
        "  plt.show()\n",
        "\n",
        "def plot_bar(data):\n",
        "  data.plot(kind='bar')\n",
        "\n",
        "def box_plot(data):\n",
        "  fig = plt.figure(figsize =(5, 5))\n",
        "\n",
        "  # Creating plot\n",
        "  plt.boxplot(data)\n",
        "\n",
        "  # show plot\n",
        "  plt.show()\n",
        "\n",
        "\n",
        "def info_column(colum_name):\n",
        "    print('Dados sobre a coluna: ', colum_name)\n",
        "    unique_values = df[colum_name].nunique()\n",
        "    print('Valores únicos: ', unique_values)\n",
        "\n",
        "    value_counts = df[colum_name].value_counts()\n",
        "    print('Top 20 valores em ordem decrescente: ')\n",
        "    print(value_counts.nlargest(20))\n",
        "\n",
        "    # plot_hist(value_counts.nlargest(20));\n",
        "    plot_bar(value_counts.nlargest(20));\n",
        "    # plot_bar(value_counts.nlowest(20));\n",
        "    box_plot(value_counts)\n",
        "\n",
        "\n",
        "\n",
        "\n"
      ],
      "metadata": {
        "id": "AEiziq_jHkAT"
      },
      "execution_count": null,
      "outputs": []
    },
    {
      "cell_type": "code",
      "source": [
        "info_column('CÓDIGO NCM/SH')"
      ],
      "metadata": {
        "id": "2EsPx_epCGmp"
      },
      "execution_count": null,
      "outputs": []
    },
    {
      "cell_type": "code",
      "source": [
        "info_column('UNIDADE')"
      ],
      "metadata": {
        "id": "AKh3QWWEGLX5"
      },
      "execution_count": null,
      "outputs": []
    },
    {
      "cell_type": "code",
      "source": [
        "info_column('DESCRIÇÃO DO PRODUTO/SERVIÇO')"
      ],
      "metadata": {
        "id": "RjCTcYIkWMFQ"
      },
      "execution_count": null,
      "outputs": []
    },
    {
      "cell_type": "markdown",
      "source": [
        "# Processamento"
      ],
      "metadata": {
        "id": "FPO7TjAlDtua"
      }
    },
    {
      "cell_type": "markdown",
      "source": [
        "## Mantém colunas de interesse"
      ],
      "metadata": {
        "id": "uxpVRBVjRoJk"
      }
    },
    {
      "cell_type": "code",
      "source": [
        "# mantem colunas de interesse\n",
        "main_columns = ['CÓDIGO NCM/SH', 'DESCRIÇÃO DO PRODUTO/SERVIÇO']\n",
        "\n",
        "df = df[main_columns].copy()"
      ],
      "metadata": {
        "id": "F9fJdn5PQ-v-"
      },
      "execution_count": null,
      "outputs": []
    },
    {
      "cell_type": "markdown",
      "source": [
        "## Códigos NCM inválidos"
      ],
      "metadata": {
        "id": "4YFXdbcRDjse"
      }
    },
    {
      "cell_type": "code",
      "source": [
        "# Count the number of values less than zero in the 'numbers' column\n",
        "count_invalid_ncm = (df['CÓDIGO NCM/SH'] <= 0).sum()\n",
        "\n",
        "\n",
        "\n",
        "print(len(df))\n",
        "print(count_invalid_ncm)\n",
        "print(count_invalid_ncm/len(df))"
      ],
      "metadata": {
        "id": "j9feeLioC7cL"
      },
      "execution_count": null,
      "outputs": []
    },
    {
      "cell_type": "markdown",
      "source": [
        "### Removendo NCM inválidas"
      ],
      "metadata": {
        "id": "OoIqRjndD5Ri"
      }
    },
    {
      "cell_type": "code",
      "source": [
        "# Remove values less than zero from the 'numbers' column\n",
        "df = df[df['CÓDIGO NCM/SH'] > 0]"
      ],
      "metadata": {
        "id": "X5nilRzcD9sQ"
      },
      "execution_count": null,
      "outputs": []
    },
    {
      "cell_type": "markdown",
      "source": [
        "## Descrições duplicadas"
      ],
      "metadata": {
        "id": "pMgQOLrBPi4s"
      }
    },
    {
      "cell_type": "code",
      "source": [
        "df_unique = df.groupby(['CÓDIGO NCM/SH', 'DESCRIÇÃO DO PRODUTO/SERVIÇO']).ngroups\n",
        "print(len(df))\n",
        "print(df_unique)\n",
        "print(df_unique/len(df))\n"
      ],
      "metadata": {
        "id": "IZUdZvnsPjHG"
      },
      "execution_count": null,
      "outputs": []
    },
    {
      "cell_type": "markdown",
      "source": [
        "### Removendo duplicatas"
      ],
      "metadata": {
        "id": "ZUkonWeiSrT7"
      }
    },
    {
      "cell_type": "code",
      "source": [
        "df = df.drop_duplicates()\n",
        "print(len(df))"
      ],
      "metadata": {
        "id": "qYd6ZyAQSrjp"
      },
      "execution_count": null,
      "outputs": []
    },
    {
      "cell_type": "markdown",
      "source": [
        "## Word Count"
      ],
      "metadata": {
        "id": "gpAXDiRQzCWj"
      }
    },
    {
      "cell_type": "code",
      "source": [
        "nltk.download('punkt')\n",
        "\n",
        "#tokeniza o texto para verificar a distribuição de tokens por instância de treinamento\n",
        "#nr_tokens tem o número de tokens da instância\n",
        "df['nr_tokens'] = df['DESCRIÇÃO DO PRODUTO/SERVIÇO'].apply(lambda x: len(nltk.word_tokenize(x,language='portuguese')))"
      ],
      "metadata": {
        "id": "nvZvVITczQZN"
      },
      "execution_count": null,
      "outputs": []
    },
    {
      "cell_type": "code",
      "source": [
        "print(f\"Instâncias: {len(df)}\")\n",
        "print(f\"Menor número de tokens: {df['nr_tokens'].min()}\")\n",
        "print(f\"Maior número de tokens: {df['nr_tokens'].max()}\")\n",
        "print(f\"Número médio de tokens: {df['nr_tokens'].mean():.1f}\")\n",
        "print(f\"Instâncias com mais de 100 tokens: {len(df[df['nr_tokens']>100])}\")\n",
        "print(f\"Instâncias com menos de 2 tokens: {len(df[df['nr_tokens']<2])}\")\n",
        "sns.displot(data=df, x=\"nr_tokens\", kde=True)"
      ],
      "metadata": {
        "id": "LkGYRKwJz489"
      },
      "execution_count": null,
      "outputs": []
    },
    {
      "cell_type": "code",
      "source": [
        "checkpoint = 'neuralmind/bert-base-portuguese-cased'\n",
        "#importando o tokenizador\n",
        "from transformers import AutoTokenizer\n",
        "tokenizer = AutoTokenizer.from_pretrained(checkpoint)\n",
        "\n",
        "#fixando o tamanho da sequência (em número de tokens -- lembre que são subpalavras)\n",
        "MAX_LENGHT = 512\n",
        "\n",
        "#tokenizando o texto para verificar a distribuição de tokens por instância de treinamento\n",
        "df['nr_tokens'] = df['DESCRIÇÃO DO PRODUTO/SERVIÇO'].apply(lambda x: len(tokenizer(x)['input_ids']))\n",
        "print(f\"Instâncias: {len(df)}\")\n",
        "print(f\"Menor Número de tokens: {df['nr_tokens'].min()}\")\n",
        "print(f\"Maior Número de tokens: {df['nr_tokens'].max()}\")\n",
        "print(f\"Numero de tokens médio: {df['nr_tokens'].mean()}\")\n",
        "print(f\"Instâncias com mais de {MAX_LENGHT} tokens: {len(df[df['nr_tokens']>MAX_LENGHT])}\")\n",
        "print(f\"Instâncias com menos de 2 tokens: {len(df[df['nr_tokens']<2])}\")\n",
        "sns.displot(data=df, x=\"nr_tokens\", kde=True)\n",
        "plt.xlim(0, MAX_LENGHT)"
      ],
      "metadata": {
        "id": "Y-QKbg9a0rEp"
      },
      "execution_count": null,
      "outputs": []
    },
    {
      "cell_type": "markdown",
      "source": [
        "## Criando coluna com ncm completa"
      ],
      "metadata": {
        "id": "RR12MfKJDzKn"
      }
    },
    {
      "cell_type": "code",
      "source": [
        "# criando coluna NCM string, adicionado padding (zeros a esquerda)\n",
        "df['ncm_completa'] = df['CÓDIGO NCM/SH'].astype(str).str.zfill(8)\n",
        "\n",
        "info_column('ncm_completa')\n"
      ],
      "metadata": {
        "id": "GkjRStYbBxSd"
      },
      "execution_count": null,
      "outputs": []
    },
    {
      "cell_type": "markdown",
      "source": [
        "## Criando colunas para cada hierarquia"
      ],
      "metadata": {
        "id": "LgCV1RRkE1MQ"
      }
    },
    {
      "cell_type": "markdown",
      "source": [
        "AA BB CC D E\n",
        "\n",
        "01 23 45 6 7\n",
        "\n",
        "\n",
        "\n",
        "*   AA = Capítulo\n",
        "*   AA BB = Posição\n",
        "*   AA BB CC = Subposição\n",
        "*   AA BB CC D = Item\n",
        "*   AA BB CC D E = Subitem"
      ],
      "metadata": {
        "id": "2iytIGwhFEFi"
      }
    },
    {
      "cell_type": "code",
      "source": [
        "df['capitulo'] = df['ncm_completa'].str.slice(0, 2)\n",
        "df['capitulo'] = df['capitulo'].astype(int)\n",
        "\n",
        "df['posicao'] = df['ncm_completa'].str.slice(0, 4)\n",
        "df['posicao'] = df['posicao'].astype(int)\n",
        "\n",
        "df['subposicao'] = df['ncm_completa'].str.slice(0, 6)\n",
        "df['subposicao'] = df['subposicao'].astype(int)\n",
        "\n",
        "df['item'] = df['ncm_completa'].str.slice(0, 7)\n",
        "df['item'] = df['item'].astype(int)\n",
        "\n"
      ],
      "metadata": {
        "id": "SUOHvamfEyTV"
      },
      "execution_count": null,
      "outputs": []
    },
    {
      "cell_type": "code",
      "source": [
        "# info_column('capitulo')\n",
        "# info_column('posicao')\n",
        "# info_column('subposicao')\n",
        "# info_column('item')"
      ],
      "metadata": {
        "id": "YMCXGH5oHe0Z"
      },
      "execution_count": null,
      "outputs": []
    },
    {
      "cell_type": "markdown",
      "source": [
        "## Códigos Capítulo inválidos"
      ],
      "metadata": {
        "id": "iNSiHHeGb3RK"
      }
    },
    {
      "cell_type": "code",
      "source": [
        "# count_invalid_capitulo = ((df['capitulo'] <= 0) & (df['capitulo'] > 97)).sum()\n",
        "count_invalid_capitulo = ((df['capitulo'] <= 0) | (df['capitulo'] > 97)).sum()\n",
        "print(len(df))\n",
        "print(count_invalid_capitulo)\n",
        "print(count_invalid_capitulo/len(df))"
      ],
      "metadata": {
        "id": "FxRf68SVb3RK"
      },
      "execution_count": null,
      "outputs": []
    },
    {
      "cell_type": "markdown",
      "source": [
        "### Removendo Capítulos inválidos"
      ],
      "metadata": {
        "id": "7DFVUUZ0b3RK"
      }
    },
    {
      "cell_type": "code",
      "source": [
        "\n",
        "df = df[df['capitulo'] > 0]\n",
        "df = df[df['capitulo'] <= 97]"
      ],
      "metadata": {
        "id": "4qqbDrZrb3RL"
      },
      "execution_count": null,
      "outputs": []
    },
    {
      "cell_type": "markdown",
      "source": [
        "## Salvando dados processados"
      ],
      "metadata": {
        "id": "sV9yfTevcGfr"
      }
    },
    {
      "cell_type": "code",
      "source": [
        "df.to_csv('/content/drive/MyDrive/Colab Notebooks/nf-e/output.csv', index=False)"
      ],
      "metadata": {
        "id": "Qis7ycLG7t_-"
      },
      "execution_count": null,
      "outputs": []
    },
    {
      "cell_type": "markdown",
      "source": [
        "## Salvando dados por capítulo"
      ],
      "metadata": {
        "id": "PiAgg43CcLP-"
      }
    },
    {
      "cell_type": "code",
      "source": [
        "df_capitulo = df[['DESCRIÇÃO DO PRODUTO/SERVIÇO', 'capitulo']]\n",
        "df_capitulo.rename(columns={'DESCRIÇÃO DO PRODUTO/SERVIÇO': 'text'}, inplace=True)\n",
        "df_capitulo.rename(columns={'capitulo': 'label'}, inplace=True)\n",
        "print(df_capitulo)\n",
        "df_capitulo.to_csv('/content/drive/MyDrive/Colab Notebooks/nf-e/df_capitulo.csv', index=False)"
      ],
      "metadata": {
        "id": "32b0awFiCeIt"
      },
      "execution_count": null,
      "outputs": []
    }
  ],
  "metadata": {
    "colab": {
      "provenance": [],
      "private_outputs": true,
      "toc_visible": true,
      "include_colab_link": true
    },
    "kernelspec": {
      "display_name": "Python 3",
      "name": "python3"
    },
    "language_info": {
      "name": "python"
    }
  },
  "nbformat": 4,
  "nbformat_minor": 0
}